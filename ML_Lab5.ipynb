{
 "cells": [
  {
   "cell_type": "code",
   "execution_count": 1,
   "id": "9b9a58d2",
   "metadata": {},
   "outputs": [
    {
     "ename": "NameError",
     "evalue": "name 'np' is not defined",
     "output_type": "error",
     "traceback": [
      "\u001b[1;31m---------------------------------------------------------------------------\u001b[0m",
      "\u001b[1;31mNameError\u001b[0m                                 Traceback (most recent call last)",
      "Cell \u001b[1;32mIn[1], line 5\u001b[0m\n\u001b[0;32m      1\u001b[0m \u001b[38;5;66;03m#Q.1\u001b[39;00m\n\u001b[0;32m      2\u001b[0m \u001b[38;5;66;03m#A1. Develop the above perceptron in your own code (don’t use the perceptron model available from package)\u001b[39;00m\n\u001b[0;32m      3\u001b[0m \u001b[38;5;66;03m# Data for logic gates\u001b[39;00m\n\u001b[1;32m----> 5\u001b[0m data_gates_input \u001b[38;5;241m=\u001b[39m np\u001b[38;5;241m.\u001b[39marray([[\u001b[38;5;241m0\u001b[39m, \u001b[38;5;241m0\u001b[39m], [\u001b[38;5;241m0\u001b[39m, \u001b[38;5;241m1\u001b[39m], [\u001b[38;5;241m1\u001b[39m, \u001b[38;5;241m0\u001b[39m], [\u001b[38;5;241m1\u001b[39m, \u001b[38;5;241m1\u001b[39m]])\n",
      "\u001b[1;31mNameError\u001b[0m: name 'np' is not defined"
     ]
    }
   ],
   "source": [
    "#Q.1\n",
    "#A1. Develop the above perceptron in your own code (don’t use the perceptron model available from package)\n",
    "# Data for logic gates\n",
    "\n",
    "data_gates_input = np.array([[0, 0], [0, 1], [1, 0], [1, 1]])\n"
   ]
  },
  {
   "cell_type": "code",
   "execution_count": 2,
   "id": "2d6fed25",
   "metadata": {},
   "outputs": [],
   "source": [
    "# Creating an activation function\n",
    "\n",
    "def activation_function(number):\n",
    "\n",
    "    if number >= 0:\n",
    "\n",
    "        return 1\n",
    "\n",
    "    else:\n",
    "\n",
    "        return 0\n",
    "\n",
    " \n"
   ]
  },
  {
   "cell_type": "code",
   "execution_count": 3,
   "id": "e58853fc",
   "metadata": {},
   "outputs": [
    {
     "ename": "NameError",
     "evalue": "name 'data_gates_input' is not defined",
     "output_type": "error",
     "traceback": [
      "\u001b[1;31m---------------------------------------------------------------------------\u001b[0m",
      "\u001b[1;31mNameError\u001b[0m                                 Traceback (most recent call last)",
      "Cell \u001b[1;32mIn[3], line 19\u001b[0m\n\u001b[0;32m     15\u001b[0m error_count \u001b[38;5;241m=\u001b[39m []\n\u001b[0;32m     17\u001b[0m epochs_count \u001b[38;5;241m=\u001b[39m \u001b[38;5;241m0\u001b[39m\n\u001b[1;32m---> 19\u001b[0m \u001b[38;5;28;01mfor\u001b[39;00m i \u001b[38;5;129;01min\u001b[39;00m \u001b[38;5;28mrange\u001b[39m(\u001b[38;5;28mlen\u001b[39m(data_gates_input)):\n\u001b[0;32m     21\u001b[0m     data_a \u001b[38;5;241m=\u001b[39m data_gates_input[i, \u001b[38;5;241m0\u001b[39m]\n\u001b[0;32m     23\u001b[0m     data_b \u001b[38;5;241m=\u001b[39m data_gates_input[i, \u001b[38;5;241m1\u001b[39m]\n",
      "\u001b[1;31mNameError\u001b[0m: name 'data_gates_input' is not defined"
     ]
    }
   ],
   "source": [
    "# Applying data on the and gate\n",
    "\n",
    "W0 = 10\n",
    "\n",
    "W1 = 0.2\n",
    "\n",
    "W2 = -0.75\n",
    "\n",
    "learning_rate = 0.05\n",
    "\n",
    " \n",
    "\n",
    "target_output = [0, 0, 0, 1]\n",
    "\n",
    "error_count = []\n",
    "\n",
    "epochs_count = 0\n",
    "\n",
    "for i in range(len(data_gates_input)):\n",
    "\n",
    "    data_a = data_gates_input[i, 0]\n",
    "\n",
    "    data_b = data_gates_input[i, 1]\n",
    "\n",
    "    perceptor_equation = W0 + data_a * W1 + data_b * W2\n",
    "\n",
    "    actual_output = activation_function(perceptor_equation)\n",
    "\n",
    "    error_value = target_output[i] - actual_output\n",
    "\n",
    "    error_count.append(error_value)\n",
    "\n",
    "    if error_count[i] != 0:\n",
    "\n",
    "        W0 += learning_rate * error_count[i]\n",
    "\n",
    "        W1 += learning_rate * error_count[i] * data_a\n",
    "\n",
    "        W2 += learning_rate * error_count[i] * data_b\n",
    "\n",
    "    print(actual_output)\n",
    "\n",
    "    epochs_count += 1\n",
    "\n",
    "print(\"Final weights of Perceptron are: \\n\")\n",
    "\n",
    "print(\"W0: \", W0)\n",
    "\n",
    "print(\"W1: \", W1)\n",
    "\n",
    "print(\"W2: \", W2)\n",
    "\n",
    "print(\"Total number of epochs in the system: \", epochs_count)"
   ]
  },
  {
   "cell_type": "code",
   "execution_count": null,
   "id": "badb5d46",
   "metadata": {},
   "outputs": [],
   "source": []
  }
 ],
 "metadata": {
  "kernelspec": {
   "display_name": "Python 3 (ipykernel)",
   "language": "python",
   "name": "python3"
  },
  "language_info": {
   "codemirror_mode": {
    "name": "ipython",
    "version": 3
   },
   "file_extension": ".py",
   "mimetype": "text/x-python",
   "name": "python",
   "nbconvert_exporter": "python",
   "pygments_lexer": "ipython3",
   "version": "3.11.4"
  }
 },
 "nbformat": 4,
 "nbformat_minor": 5
}
