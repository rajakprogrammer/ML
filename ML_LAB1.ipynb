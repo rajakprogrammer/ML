{
 "cells": [
  {
   "cell_type": "code",
   "execution_count": 3,
   "id": "fe98ae42",
   "metadata": {},
   "outputs": [
    {
     "name": "stdout",
     "output_type": "stream",
     "text": [
      "[[20  6  2]\n",
      " [16  3  6]\n",
      " [27  6  2]\n",
      " [19  1  2]\n",
      " [24  4  2]\n",
      " [22  1  5]\n",
      " [15  4  2]\n",
      " [18  4  2]\n",
      " [21  1  4]\n",
      " [16  2  4]]\n",
      "\n",
      "[[386]\n",
      " [289]\n",
      " [393]\n",
      " [110]\n",
      " [280]\n",
      " [167]\n",
      " [271]\n",
      " [274]\n",
      " [148]\n",
      " [198]]\n"
     ]
    }
   ],
   "source": [
    "import pandas as pd\n",
    "import numpy as np\n",
    "\n",
    "df = pd.read_excel(r'E:\\5th sem\\ML\\lab\\Lab Session1 Data.xlsx', sheet_name = 'Purchase data')\n",
    "\n",
    "A = df.iloc[:, 1:4]\n",
    "C = df.iloc[:, 4]\n",
    "\n",
    "matrix_A = np.matrix(A)\n",
    "matrix_C = np.matrix(C)\n",
    "\n",
    "matrix_C = matrix_C.reshape(10, 1)\n",
    "# Matrix A values\n",
    "print(matrix_A)\n",
    "\n",
    "print()\n",
    "# Matrix C values\n",
    "print(matrix_C)"
   ]
  },
  {
   "cell_type": "code",
   "execution_count": 4,
   "id": "3c858402",
   "metadata": {},
   "outputs": [
    {
     "name": "stdout",
     "output_type": "stream",
     "text": [
      "(10, 3)  is the dimensions of the matrix A\n",
      "\n",
      "(10, 1)  is the dimensions of the matrix C\n",
      "\n"
     ]
    }
   ],
   "source": [
    "# finding dimensions of matrix A\n",
    "print(matrix_A.shape, \" is the dimensions of the matrix A\\n\")\n",
    "\n",
    "# finding dimensions of matrix C\n",
    "print(matrix_C.shape, \" is the dimensions of the matrix C\\n\")"
   ]
  },
  {
   "cell_type": "code",
   "execution_count": 5,
   "id": "0c099210",
   "metadata": {},
   "outputs": [
    {
     "name": "stdout",
     "output_type": "stream",
     "text": [
      "10  is the number of vectors in the vector space\n",
      "\n"
     ]
    }
   ],
   "source": [
    "# finding the number of vectors in vector space\n",
    "vectors = len(matrix_A)\n",
    "print(vectors, \" is the number of vectors in the vector space\\n\")"
   ]
  },
  {
   "cell_type": "code",
   "execution_count": 6,
   "id": "2eaa3587",
   "metadata": {},
   "outputs": [
    {
     "name": "stdout",
     "output_type": "stream",
     "text": [
      "3  is the rank of matrix A\n",
      "\n",
      "1  is the rank of matrix C\n",
      "\n"
     ]
    }
   ],
   "source": [
    "# Rank of matrix A\n",
    "rankA = np.linalg.matrix_rank(matrix_A)\n",
    "print(rankA, \" is the rank of matrix A\\n\")\n",
    "\n",
    "rankC = np.linalg.matrix_rank(matrix_C)\n",
    "print(rankC, \" is the rank of matrix C\\n\")"
   ]
  },
  {
   "cell_type": "code",
   "execution_count": 7,
   "id": "6bab7735",
   "metadata": {},
   "outputs": [
    {
     "name": "stdout",
     "output_type": "stream",
     "text": [
      "[[-0.01008596 -0.03124505  0.01013951  0.0290728   0.0182907   0.01161794\n",
      "  -0.00771348  0.00095458  0.01743623 -0.00542016]\n",
      " [ 0.09059668  0.07263726  0.03172933 -0.09071908 -0.01893196 -0.06926996\n",
      "   0.05675464  0.03152577 -0.07641966  0.00357352]\n",
      " [ 0.00299878  0.15874243 -0.05795468 -0.06609024 -0.06295043  0.03348017\n",
      "   0.01541831 -0.01070461  0.00029003  0.05938755]]\n",
      "(3, 10)  is the dimensions of pseudo inverse of matrix A\n",
      "\n"
     ]
    }
   ],
   "source": [
    "# finding the pseudo inverse of matrix A\n",
    "psinvA = np.linalg.pinv(matrix_A)\n",
    "print(psinvA)\n",
    "print(psinvA.shape, \" is the dimensions of pseudo inverse of matrix A\\n\")"
   ]
  },
  {
   "cell_type": "code",
   "execution_count": 8,
   "id": "53a919ad",
   "metadata": {},
   "outputs": [
    {
     "name": "stdout",
     "output_type": "stream",
     "text": [
      "[[ 1.]\n",
      " [55.]\n",
      " [18.]] is the solution matrix X\n",
      "\n",
      "(3, 1)\n"
     ]
    }
   ],
   "source": [
    "# finding the solution of matrix X in AX=C\n",
    "matrix_X = np.matmul(psinvA, matrix_C)\n",
    "print(matrix_X, \"is the solution matrix X\\n\")\n",
    "print(matrix_X.shape)"
   ]
  },
  {
   "cell_type": "code",
   "execution_count": 9,
   "id": "e10db4ab",
   "metadata": {},
   "outputs": [
    {
     "name": "stdout",
     "output_type": "stream",
     "text": [
      "0    386\n",
      "1    289\n",
      "2    393\n",
      "3    110\n",
      "4    280\n",
      "5    167\n",
      "6    271\n",
      "7    274\n",
      "8    148\n",
      "9    198\n",
      "Name: Payment (Rs), dtype: int64\n",
      "0    RICH\n",
      "1    RICH\n",
      "2    RICH\n",
      "3    POOR\n",
      "4    RICH\n",
      "5    POOR\n",
      "6    RICH\n",
      "7    RICH\n",
      "8    POOR\n",
      "9    POOR\n",
      "Name: Payment (Rs), dtype: object  is the categories of all the entries\n",
      "\n"
     ]
    }
   ],
   "source": [
    "# classifying the customers as rich or poor\n",
    "z = df.iloc[:, 4]\n",
    "print(z)\n",
    "B = z.apply(lambda payment: 'RICH' if payment > 200 else 'POOR')\n",
    "print(B, \" is the categories of all the entries\\n\")"
   ]
  },
  {
   "cell_type": "code",
   "execution_count": null,
   "id": "59147156",
   "metadata": {},
   "outputs": [],
   "source": []
  }
 ],
 "metadata": {
  "kernelspec": {
   "display_name": "Python 3 (ipykernel)",
   "language": "python",
   "name": "python3"
  },
  "language_info": {
   "codemirror_mode": {
    "name": "ipython",
    "version": 3
   },
   "file_extension": ".py",
   "mimetype": "text/x-python",
   "name": "python",
   "nbconvert_exporter": "python",
   "pygments_lexer": "ipython3",
   "version": "3.11.4"
  }
 },
 "nbformat": 4,
 "nbformat_minor": 5
}
