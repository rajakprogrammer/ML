{
 "cells": [
  {
   "cell_type": "code",
   "execution_count": 1,
   "id": "e5258790-3985-4fdf-ad84-4deedc43ff97",
   "metadata": {},
   "outputs": [],
   "source": [
    "import pandas as pd\n",
    "import numpy as np\n",
    "import matplotlib.pyplot as plt\n",
    "import seaborn as sns"
   ]
  },
  {
   "cell_type": "code",
   "execution_count": 2,
   "id": "67a24e80-41f5-4d6c-94d5-8b426de5898d",
   "metadata": {},
   "outputs": [
    {
     "data": {
      "text/html": [
       "<div>\n",
       "<style scoped>\n",
       "    .dataframe tbody tr th:only-of-type {\n",
       "        vertical-align: middle;\n",
       "    }\n",
       "\n",
       "    .dataframe tbody tr th {\n",
       "        vertical-align: top;\n",
       "    }\n",
       "\n",
       "    .dataframe thead th {\n",
       "        text-align: right;\n",
       "    }\n",
       "</style>\n",
       "<table border=\"1\" class=\"dataframe\">\n",
       "  <thead>\n",
       "    <tr style=\"text-align: right;\">\n",
       "      <th></th>\n",
       "      <th>Label</th>\n",
       "      <th>embed_0</th>\n",
       "      <th>embed_1</th>\n",
       "      <th>embed_2</th>\n",
       "      <th>embed_3</th>\n",
       "      <th>embed_4</th>\n",
       "      <th>embed_5</th>\n",
       "      <th>embed_6</th>\n",
       "      <th>embed_7</th>\n",
       "      <th>embed_8</th>\n",
       "      <th>...</th>\n",
       "      <th>embed_758</th>\n",
       "      <th>embed_759</th>\n",
       "      <th>embed_760</th>\n",
       "      <th>embed_761</th>\n",
       "      <th>embed_762</th>\n",
       "      <th>embed_763</th>\n",
       "      <th>embed_764</th>\n",
       "      <th>embed_765</th>\n",
       "      <th>embed_766</th>\n",
       "      <th>embed_767</th>\n",
       "    </tr>\n",
       "  </thead>\n",
       "  <tbody>\n",
       "    <tr>\n",
       "      <th>0</th>\n",
       "      <td>0</td>\n",
       "      <td>0.009625</td>\n",
       "      <td>-0.029216</td>\n",
       "      <td>0.027109</td>\n",
       "      <td>0.023631</td>\n",
       "      <td>-0.004972</td>\n",
       "      <td>0.031757</td>\n",
       "      <td>-0.045125</td>\n",
       "      <td>0.044483</td>\n",
       "      <td>0.019400</td>\n",
       "      <td>...</td>\n",
       "      <td>-0.045697</td>\n",
       "      <td>-0.001972</td>\n",
       "      <td>-0.008154</td>\n",
       "      <td>-0.056139</td>\n",
       "      <td>0.009890</td>\n",
       "      <td>0.042366</td>\n",
       "      <td>0.040134</td>\n",
       "      <td>0.009304</td>\n",
       "      <td>-0.016137</td>\n",
       "      <td>-0.009309</td>\n",
       "    </tr>\n",
       "    <tr>\n",
       "      <th>1</th>\n",
       "      <td>0</td>\n",
       "      <td>-0.007535</td>\n",
       "      <td>-0.039844</td>\n",
       "      <td>0.030167</td>\n",
       "      <td>0.031224</td>\n",
       "      <td>0.004742</td>\n",
       "      <td>0.028289</td>\n",
       "      <td>-0.068723</td>\n",
       "      <td>0.039153</td>\n",
       "      <td>0.019596</td>\n",
       "      <td>...</td>\n",
       "      <td>-0.056834</td>\n",
       "      <td>0.008613</td>\n",
       "      <td>-0.006578</td>\n",
       "      <td>-0.034220</td>\n",
       "      <td>0.027574</td>\n",
       "      <td>0.045456</td>\n",
       "      <td>0.027402</td>\n",
       "      <td>0.017837</td>\n",
       "      <td>-0.035009</td>\n",
       "      <td>-0.010062</td>\n",
       "    </tr>\n",
       "    <tr>\n",
       "      <th>2</th>\n",
       "      <td>0</td>\n",
       "      <td>0.022408</td>\n",
       "      <td>-0.030840</td>\n",
       "      <td>0.032328</td>\n",
       "      <td>0.046965</td>\n",
       "      <td>0.007798</td>\n",
       "      <td>0.025860</td>\n",
       "      <td>-0.065093</td>\n",
       "      <td>0.035118</td>\n",
       "      <td>0.035359</td>\n",
       "      <td>...</td>\n",
       "      <td>-0.016249</td>\n",
       "      <td>0.020413</td>\n",
       "      <td>-0.034288</td>\n",
       "      <td>-0.050649</td>\n",
       "      <td>0.028408</td>\n",
       "      <td>0.040412</td>\n",
       "      <td>0.030261</td>\n",
       "      <td>0.003535</td>\n",
       "      <td>-0.034122</td>\n",
       "      <td>-0.017289</td>\n",
       "    </tr>\n",
       "    <tr>\n",
       "      <th>3</th>\n",
       "      <td>0</td>\n",
       "      <td>0.019677</td>\n",
       "      <td>-0.034055</td>\n",
       "      <td>0.012662</td>\n",
       "      <td>0.070387</td>\n",
       "      <td>-0.011170</td>\n",
       "      <td>0.017842</td>\n",
       "      <td>-0.050945</td>\n",
       "      <td>0.044878</td>\n",
       "      <td>0.034781</td>\n",
       "      <td>...</td>\n",
       "      <td>-0.038879</td>\n",
       "      <td>0.002963</td>\n",
       "      <td>-0.018754</td>\n",
       "      <td>-0.053278</td>\n",
       "      <td>0.033005</td>\n",
       "      <td>0.031635</td>\n",
       "      <td>0.022544</td>\n",
       "      <td>-0.011774</td>\n",
       "      <td>-0.011125</td>\n",
       "      <td>-0.017540</td>\n",
       "    </tr>\n",
       "    <tr>\n",
       "      <th>4</th>\n",
       "      <td>0</td>\n",
       "      <td>0.017678</td>\n",
       "      <td>-0.030323</td>\n",
       "      <td>0.012829</td>\n",
       "      <td>0.065267</td>\n",
       "      <td>-0.025161</td>\n",
       "      <td>0.011964</td>\n",
       "      <td>-0.050590</td>\n",
       "      <td>0.042820</td>\n",
       "      <td>0.029161</td>\n",
       "      <td>...</td>\n",
       "      <td>-0.042079</td>\n",
       "      <td>0.010192</td>\n",
       "      <td>-0.010147</td>\n",
       "      <td>-0.035857</td>\n",
       "      <td>0.021784</td>\n",
       "      <td>0.034621</td>\n",
       "      <td>0.017342</td>\n",
       "      <td>-0.009884</td>\n",
       "      <td>-0.010316</td>\n",
       "      <td>-0.029238</td>\n",
       "    </tr>\n",
       "  </tbody>\n",
       "</table>\n",
       "<p>5 rows × 769 columns</p>\n",
       "</div>"
      ],
      "text/plain": [
       "   Label   embed_0   embed_1   embed_2   embed_3   embed_4   embed_5  \\\n",
       "0      0  0.009625 -0.029216  0.027109  0.023631 -0.004972  0.031757   \n",
       "1      0 -0.007535 -0.039844  0.030167  0.031224  0.004742  0.028289   \n",
       "2      0  0.022408 -0.030840  0.032328  0.046965  0.007798  0.025860   \n",
       "3      0  0.019677 -0.034055  0.012662  0.070387 -0.011170  0.017842   \n",
       "4      0  0.017678 -0.030323  0.012829  0.065267 -0.025161  0.011964   \n",
       "\n",
       "    embed_6   embed_7   embed_8  ...  embed_758  embed_759  embed_760  \\\n",
       "0 -0.045125  0.044483  0.019400  ...  -0.045697  -0.001972  -0.008154   \n",
       "1 -0.068723  0.039153  0.019596  ...  -0.056834   0.008613  -0.006578   \n",
       "2 -0.065093  0.035118  0.035359  ...  -0.016249   0.020413  -0.034288   \n",
       "3 -0.050945  0.044878  0.034781  ...  -0.038879   0.002963  -0.018754   \n",
       "4 -0.050590  0.042820  0.029161  ...  -0.042079   0.010192  -0.010147   \n",
       "\n",
       "   embed_761  embed_762  embed_763  embed_764  embed_765  embed_766  embed_767  \n",
       "0  -0.056139   0.009890   0.042366   0.040134   0.009304  -0.016137  -0.009309  \n",
       "1  -0.034220   0.027574   0.045456   0.027402   0.017837  -0.035009  -0.010062  \n",
       "2  -0.050649   0.028408   0.040412   0.030261   0.003535  -0.034122  -0.017289  \n",
       "3  -0.053278   0.033005   0.031635   0.022544  -0.011774  -0.011125  -0.017540  \n",
       "4  -0.035857   0.021784   0.034621   0.017342  -0.009884  -0.010316  -0.029238  \n",
       "\n",
       "[5 rows x 769 columns]"
      ]
     },
     "execution_count": 2,
     "metadata": {},
     "output_type": "execute_result"
    }
   ],
   "source": [
    "df = pd.read_excel(r'embeddingsdata - Copy.xlsx')\n",
    "df.head()"
   ]
  },
  {
   "cell_type": "code",
   "execution_count": 4,
   "id": "9fdbe93e-bba7-4760-bd39-38f8fee15764",
   "metadata": {},
   "outputs": [
    {
     "name": "stdout",
     "output_type": "stream",
     "text": [
      "<class 'pandas.core.frame.DataFrame'>\n",
      "RangeIndex: 900 entries, 0 to 899\n",
      "Columns: 769 entries, Label to embed_767\n",
      "dtypes: float64(768), int64(1)\n",
      "memory usage: 5.3 MB\n"
     ]
    }
   ],
   "source": [
    "df.info()"
   ]
  },
  {
   "cell_type": "code",
   "execution_count": 5,
   "id": "59ab6a70-fcf5-4f0b-97ae-f8a369d25dff",
   "metadata": {},
   "outputs": [
    {
     "data": {
      "text/html": [
       "<div>\n",
       "<style scoped>\n",
       "    .dataframe tbody tr th:only-of-type {\n",
       "        vertical-align: middle;\n",
       "    }\n",
       "\n",
       "    .dataframe tbody tr th {\n",
       "        vertical-align: top;\n",
       "    }\n",
       "\n",
       "    .dataframe thead th {\n",
       "        text-align: right;\n",
       "    }\n",
       "</style>\n",
       "<table border=\"1\" class=\"dataframe\">\n",
       "  <thead>\n",
       "    <tr style=\"text-align: right;\">\n",
       "      <th></th>\n",
       "      <th>Label</th>\n",
       "      <th>embed_0</th>\n",
       "      <th>embed_1</th>\n",
       "      <th>embed_2</th>\n",
       "      <th>embed_3</th>\n",
       "      <th>embed_4</th>\n",
       "      <th>embed_5</th>\n",
       "      <th>embed_6</th>\n",
       "      <th>embed_7</th>\n",
       "      <th>embed_8</th>\n",
       "      <th>...</th>\n",
       "      <th>embed_758</th>\n",
       "      <th>embed_759</th>\n",
       "      <th>embed_760</th>\n",
       "      <th>embed_761</th>\n",
       "      <th>embed_762</th>\n",
       "      <th>embed_763</th>\n",
       "      <th>embed_764</th>\n",
       "      <th>embed_765</th>\n",
       "      <th>embed_766</th>\n",
       "      <th>embed_767</th>\n",
       "    </tr>\n",
       "  </thead>\n",
       "  <tbody>\n",
       "    <tr>\n",
       "      <th>count</th>\n",
       "      <td>900.000000</td>\n",
       "      <td>900.000000</td>\n",
       "      <td>900.000000</td>\n",
       "      <td>900.000000</td>\n",
       "      <td>900.000000</td>\n",
       "      <td>900.000000</td>\n",
       "      <td>900.000000</td>\n",
       "      <td>900.000000</td>\n",
       "      <td>900.000000</td>\n",
       "      <td>900.000000</td>\n",
       "      <td>...</td>\n",
       "      <td>900.000000</td>\n",
       "      <td>900.000000</td>\n",
       "      <td>900.000000</td>\n",
       "      <td>900.000000</td>\n",
       "      <td>900.000000</td>\n",
       "      <td>900.000000</td>\n",
       "      <td>900.000000</td>\n",
       "      <td>900.000000</td>\n",
       "      <td>900.000000</td>\n",
       "      <td>900.000000</td>\n",
       "    </tr>\n",
       "    <tr>\n",
       "      <th>mean</th>\n",
       "      <td>1.751111</td>\n",
       "      <td>0.008983</td>\n",
       "      <td>-0.025840</td>\n",
       "      <td>0.026057</td>\n",
       "      <td>0.044410</td>\n",
       "      <td>0.000759</td>\n",
       "      <td>0.013850</td>\n",
       "      <td>-0.059033</td>\n",
       "      <td>0.038857</td>\n",
       "      <td>0.034926</td>\n",
       "      <td>...</td>\n",
       "      <td>-0.033964</td>\n",
       "      <td>0.001379</td>\n",
       "      <td>-0.020182</td>\n",
       "      <td>-0.051826</td>\n",
       "      <td>0.020040</td>\n",
       "      <td>0.037724</td>\n",
       "      <td>0.020917</td>\n",
       "      <td>0.012222</td>\n",
       "      <td>-0.018116</td>\n",
       "      <td>-0.020047</td>\n",
       "    </tr>\n",
       "    <tr>\n",
       "      <th>std</th>\n",
       "      <td>2.444546</td>\n",
       "      <td>0.013080</td>\n",
       "      <td>0.014345</td>\n",
       "      <td>0.012180</td>\n",
       "      <td>0.012642</td>\n",
       "      <td>0.012814</td>\n",
       "      <td>0.011169</td>\n",
       "      <td>0.009884</td>\n",
       "      <td>0.009770</td>\n",
       "      <td>0.012038</td>\n",
       "      <td>...</td>\n",
       "      <td>0.012178</td>\n",
       "      <td>0.011610</td>\n",
       "      <td>0.010045</td>\n",
       "      <td>0.011161</td>\n",
       "      <td>0.011081</td>\n",
       "      <td>0.010076</td>\n",
       "      <td>0.010277</td>\n",
       "      <td>0.011059</td>\n",
       "      <td>0.011709</td>\n",
       "      <td>0.010896</td>\n",
       "    </tr>\n",
       "    <tr>\n",
       "      <th>min</th>\n",
       "      <td>0.000000</td>\n",
       "      <td>-0.039358</td>\n",
       "      <td>-0.084908</td>\n",
       "      <td>-0.007233</td>\n",
       "      <td>0.007033</td>\n",
       "      <td>-0.055765</td>\n",
       "      <td>-0.028051</td>\n",
       "      <td>-0.086373</td>\n",
       "      <td>0.004234</td>\n",
       "      <td>-0.005650</td>\n",
       "      <td>...</td>\n",
       "      <td>-0.074209</td>\n",
       "      <td>-0.051135</td>\n",
       "      <td>-0.050940</td>\n",
       "      <td>-0.083101</td>\n",
       "      <td>-0.012383</td>\n",
       "      <td>0.005104</td>\n",
       "      <td>-0.012658</td>\n",
       "      <td>-0.030215</td>\n",
       "      <td>-0.052673</td>\n",
       "      <td>-0.049920</td>\n",
       "    </tr>\n",
       "    <tr>\n",
       "      <th>25%</th>\n",
       "      <td>0.000000</td>\n",
       "      <td>-0.000027</td>\n",
       "      <td>-0.034862</td>\n",
       "      <td>0.017528</td>\n",
       "      <td>0.036387</td>\n",
       "      <td>-0.007764</td>\n",
       "      <td>0.007289</td>\n",
       "      <td>-0.065763</td>\n",
       "      <td>0.032636</td>\n",
       "      <td>0.026667</td>\n",
       "      <td>...</td>\n",
       "      <td>-0.042259</td>\n",
       "      <td>-0.006315</td>\n",
       "      <td>-0.026980</td>\n",
       "      <td>-0.060003</td>\n",
       "      <td>0.012729</td>\n",
       "      <td>0.031493</td>\n",
       "      <td>0.014332</td>\n",
       "      <td>0.004693</td>\n",
       "      <td>-0.026373</td>\n",
       "      <td>-0.027255</td>\n",
       "    </tr>\n",
       "    <tr>\n",
       "      <th>50%</th>\n",
       "      <td>1.000000</td>\n",
       "      <td>0.009184</td>\n",
       "      <td>-0.026009</td>\n",
       "      <td>0.025705</td>\n",
       "      <td>0.044498</td>\n",
       "      <td>0.000951</td>\n",
       "      <td>0.014360</td>\n",
       "      <td>-0.059843</td>\n",
       "      <td>0.038992</td>\n",
       "      <td>0.035213</td>\n",
       "      <td>...</td>\n",
       "      <td>-0.033778</td>\n",
       "      <td>0.002049</td>\n",
       "      <td>-0.020128</td>\n",
       "      <td>-0.052381</td>\n",
       "      <td>0.020137</td>\n",
       "      <td>0.037664</td>\n",
       "      <td>0.021242</td>\n",
       "      <td>0.012172</td>\n",
       "      <td>-0.018876</td>\n",
       "      <td>-0.020307</td>\n",
       "    </tr>\n",
       "    <tr>\n",
       "      <th>75%</th>\n",
       "      <td>2.000000</td>\n",
       "      <td>0.018332</td>\n",
       "      <td>-0.016397</td>\n",
       "      <td>0.034142</td>\n",
       "      <td>0.052540</td>\n",
       "      <td>0.009654</td>\n",
       "      <td>0.021493</td>\n",
       "      <td>-0.052747</td>\n",
       "      <td>0.045889</td>\n",
       "      <td>0.043000</td>\n",
       "      <td>...</td>\n",
       "      <td>-0.025644</td>\n",
       "      <td>0.008861</td>\n",
       "      <td>-0.013172</td>\n",
       "      <td>-0.044269</td>\n",
       "      <td>0.026860</td>\n",
       "      <td>0.044129</td>\n",
       "      <td>0.027501</td>\n",
       "      <td>0.019967</td>\n",
       "      <td>-0.010427</td>\n",
       "      <td>-0.012180</td>\n",
       "    </tr>\n",
       "    <tr>\n",
       "      <th>max</th>\n",
       "      <td>10.000000</td>\n",
       "      <td>0.058404</td>\n",
       "      <td>0.013274</td>\n",
       "      <td>0.066939</td>\n",
       "      <td>0.083282</td>\n",
       "      <td>0.034851</td>\n",
       "      <td>0.046588</td>\n",
       "      <td>-0.027718</td>\n",
       "      <td>0.066988</td>\n",
       "      <td>0.071390</td>\n",
       "      <td>...</td>\n",
       "      <td>0.000070</td>\n",
       "      <td>0.038822</td>\n",
       "      <td>0.008411</td>\n",
       "      <td>-0.017419</td>\n",
       "      <td>0.060821</td>\n",
       "      <td>0.073698</td>\n",
       "      <td>0.051190</td>\n",
       "      <td>0.044975</td>\n",
       "      <td>0.025080</td>\n",
       "      <td>0.033281</td>\n",
       "    </tr>\n",
       "  </tbody>\n",
       "</table>\n",
       "<p>8 rows × 769 columns</p>\n",
       "</div>"
      ],
      "text/plain": [
       "            Label     embed_0     embed_1     embed_2     embed_3     embed_4  \\\n",
       "count  900.000000  900.000000  900.000000  900.000000  900.000000  900.000000   \n",
       "mean     1.751111    0.008983   -0.025840    0.026057    0.044410    0.000759   \n",
       "std      2.444546    0.013080    0.014345    0.012180    0.012642    0.012814   \n",
       "min      0.000000   -0.039358   -0.084908   -0.007233    0.007033   -0.055765   \n",
       "25%      0.000000   -0.000027   -0.034862    0.017528    0.036387   -0.007764   \n",
       "50%      1.000000    0.009184   -0.026009    0.025705    0.044498    0.000951   \n",
       "75%      2.000000    0.018332   -0.016397    0.034142    0.052540    0.009654   \n",
       "max     10.000000    0.058404    0.013274    0.066939    0.083282    0.034851   \n",
       "\n",
       "          embed_5     embed_6     embed_7     embed_8  ...   embed_758  \\\n",
       "count  900.000000  900.000000  900.000000  900.000000  ...  900.000000   \n",
       "mean     0.013850   -0.059033    0.038857    0.034926  ...   -0.033964   \n",
       "std      0.011169    0.009884    0.009770    0.012038  ...    0.012178   \n",
       "min     -0.028051   -0.086373    0.004234   -0.005650  ...   -0.074209   \n",
       "25%      0.007289   -0.065763    0.032636    0.026667  ...   -0.042259   \n",
       "50%      0.014360   -0.059843    0.038992    0.035213  ...   -0.033778   \n",
       "75%      0.021493   -0.052747    0.045889    0.043000  ...   -0.025644   \n",
       "max      0.046588   -0.027718    0.066988    0.071390  ...    0.000070   \n",
       "\n",
       "        embed_759   embed_760   embed_761   embed_762   embed_763   embed_764  \\\n",
       "count  900.000000  900.000000  900.000000  900.000000  900.000000  900.000000   \n",
       "mean     0.001379   -0.020182   -0.051826    0.020040    0.037724    0.020917   \n",
       "std      0.011610    0.010045    0.011161    0.011081    0.010076    0.010277   \n",
       "min     -0.051135   -0.050940   -0.083101   -0.012383    0.005104   -0.012658   \n",
       "25%     -0.006315   -0.026980   -0.060003    0.012729    0.031493    0.014332   \n",
       "50%      0.002049   -0.020128   -0.052381    0.020137    0.037664    0.021242   \n",
       "75%      0.008861   -0.013172   -0.044269    0.026860    0.044129    0.027501   \n",
       "max      0.038822    0.008411   -0.017419    0.060821    0.073698    0.051190   \n",
       "\n",
       "        embed_765   embed_766   embed_767  \n",
       "count  900.000000  900.000000  900.000000  \n",
       "mean     0.012222   -0.018116   -0.020047  \n",
       "std      0.011059    0.011709    0.010896  \n",
       "min     -0.030215   -0.052673   -0.049920  \n",
       "25%      0.004693   -0.026373   -0.027255  \n",
       "50%      0.012172   -0.018876   -0.020307  \n",
       "75%      0.019967   -0.010427   -0.012180  \n",
       "max      0.044975    0.025080    0.033281  \n",
       "\n",
       "[8 rows x 769 columns]"
      ]
     },
     "execution_count": 5,
     "metadata": {},
     "output_type": "execute_result"
    }
   ],
   "source": [
    "df.describe()"
   ]
  },
  {
   "cell_type": "code",
   "execution_count": 8,
   "id": "ceefde1f-1515-4792-8a75-82d2b38a877e",
   "metadata": {},
   "outputs": [
    {
     "data": {
      "text/plain": [
       "11"
      ]
     },
     "execution_count": 8,
     "metadata": {},
     "output_type": "execute_result"
    }
   ],
   "source": [
    "df['Label'].nunique()"
   ]
  },
  {
   "cell_type": "markdown",
   "id": "ad281a0d-f09f-4fd2-93c2-2021a9484dec",
   "metadata": {},
   "source": [
    "## A1"
   ]
  },
  {
   "cell_type": "markdown",
   "id": "0e55a36b-d66d-44ff-85a4-3a50fe96675c",
   "metadata": {},
   "source": [
    "Merge your train & test sets and remove the class labels. Use k-means algorithm with k = 3 or 5 (based on your dataset) to form the clusters."
   ]
  },
  {
   "cell_type": "code",
   "execution_count": 5,
   "id": "b3332e5d-c27f-4638-bbf6-db4911186a77",
   "metadata": {},
   "outputs": [],
   "source": [
    "from sklearn.model_selection import train_test_split"
   ]
  },
  {
   "cell_type": "code",
   "execution_count": 6,
   "id": "74cd8132-d5ba-45d2-a43b-ef2db9b95c07",
   "metadata": {},
   "outputs": [
    {
     "data": {
      "text/plain": [
       "Index(['Label', 'embed_0', 'embed_1', 'embed_2', 'embed_3', 'embed_4',\n",
       "       'embed_5', 'embed_6', 'embed_7', 'embed_8',\n",
       "       ...\n",
       "       'embed_758', 'embed_759', 'embed_760', 'embed_761', 'embed_762',\n",
       "       'embed_763', 'embed_764', 'embed_765', 'embed_766', 'embed_767'],\n",
       "      dtype='object', length=769)"
      ]
     },
     "execution_count": 6,
     "metadata": {},
     "output_type": "execute_result"
    }
   ],
   "source": [
    "df.columns"
   ]
  },
  {
   "cell_type": "code",
   "execution_count": 7,
   "id": "2198e451-7f0e-4e09-ae36-3bba20b6dce5",
   "metadata": {},
   "outputs": [],
   "source": [
    "X = df[df.columns[1:]]\n",
    "y = df['Label']"
   ]
  },
  {
   "cell_type": "code",
   "execution_count": 8,
   "id": "eb1c456d-cb72-4d0f-91bb-35c193e9dd22",
   "metadata": {},
   "outputs": [],
   "source": [
    "X_train, X_test , y_train, y_test = train_test_split(X,y,test_size=0.3,random_state=101)"
   ]
  },
  {
   "cell_type": "code",
   "execution_count": 9,
   "id": "5c10b7f6-5ce1-4691-8c43-f851e4b70598",
   "metadata": {},
   "outputs": [],
   "source": [
    "from sklearn.cluster import KMeans"
   ]
  },
  {
   "cell_type": "code",
   "execution_count": 10,
   "id": "868b9353-ca4d-4485-b38d-b7f921a27ec3",
   "metadata": {},
   "outputs": [],
   "source": [
    "X = np.concatenate((X_train, X_test), axis=0)"
   ]
  },
  {
   "cell_type": "code",
   "execution_count": 11,
   "id": "bbe20445-084c-43a2-9a3a-4fb96dd2dd4c",
   "metadata": {},
   "outputs": [],
   "source": [
    "y = np.concatenate((y_train, y_test), axis=0)"
   ]
  },
  {
   "cell_type": "markdown",
   "id": "ea2717c5-3a86-477f-a682-73f31b0bf1f0",
   "metadata": {},
   "source": [
    "### k = 3"
   ]
  },
  {
   "cell_type": "code",
   "execution_count": 12,
   "id": "234dff0d-8284-4f48-aac7-badb0692c063",
   "metadata": {},
   "outputs": [
    {
     "name": "stderr",
     "output_type": "stream",
     "text": [
      "C:\\Users\\Pranav\\AppData\\Local\\Programs\\Python\\Python311\\Lib\\site-packages\\sklearn\\cluster\\_kmeans.py:1412: FutureWarning: The default value of `n_init` will change from 10 to 'auto' in 1.4. Set the value of `n_init` explicitly to suppress the warning\n",
      "  super()._check_params_vs_input(X, default_n_init=10)\n"
     ]
    },
    {
     "name": "stdout",
     "output_type": "stream",
     "text": [
      "[0 0 1 0 0 0 1 1 0 0 0 1 2 0 0 1 0 1 0 0 2 0 0 0 0 0 2 1 1 0 1 0 0 0 2 0 0\n",
      " 1 0 0 0 0 0 0 1 0 1 2 0 0 0 0 0 0 1 1 2 0 1 0 1 1 0 0 1 0 1 1 1 0 1 0 2 1\n",
      " 0 1 0 0 0 1 0 0 0 0 0 1 0 0 0 0 1 1 1 2 0 0 1 0 0 1 0 1 0 0 1 0 0 0 0 1 0\n",
      " 1 0 1 1 0 0 0 1 0 0 1 0 1 0 1 0 0 1 0 0 2 0 0 1 1 1 0 0 0 0 0 0 0 0 0 1 0\n",
      " 2 1 0 2 1 0 0 2 0 0 0 0 0 1 0 0 2 1 1 1 0 1 0 0 0 1 2 1 0 0 0 0 0 1 0 0 0\n",
      " 1 0 1 0 0 1 0 1 1 0 1 0 0 0 0 1 2 0 1 0 1 0 0 0 0 0 0 0 1 0 0 1 0 1 0 1 0\n",
      " 0 1 0 0 0 0 2 0 0 0 1 0 0 0 0 1 2 0 0 0 2 0 1 0 0 0 0 0 0 1 0 0 0 0 0 0 1\n",
      " 1 0 0 1 0 0 0 0 0 0 0 1 0 0 0 0 0 0 1 0 0 2 0 0 1 0 1 0 0 1 0 0 1 0 0 0 1\n",
      " 0 1 1 0 0 0 0 2 0 0 1 1 1 0 0 0 1 2 0 1 0 2 0 0 1 0 0 1 0 1 0 0 0 0 0 1 0\n",
      " 0 0 2 1 0 0 0 1 0 1 1 0 0 1 0 0 0 1 2 1 1 0 1 0 2 2 0 0 0 0 2 1 0 0 0 0 0\n",
      " 0 1 0 1 2 0 0 0 1 1 0 1 0 0 1 0 0 1 0 0 1 1 0 0 0 1 0 0 2 2 0 1 0 0 1 0 1\n",
      " 0 0 1 0 0 0 0 1 1 0 0 0 0 0 2 1 0 0 1 0 0 0 0 0 0 0 0 1 0 0 0 0 1 0 0 1 1\n",
      " 0 0 1 0 0 0 0 0 0 1 0 0 0 0 0 0 0 0 0 0 0 0 0 0 0 0 0 1 0 0 2 1 1 0 0 1 0\n",
      " 0 1 0 0 2 0 0 1 0 1 0 2 1 0 0 0 2 0 1 0 1 1 0 2 0 1 0 0 0 1 0 1 1 1 0 0 1\n",
      " 0 1 2 1 0 0 0 1 1 0 0 1 0 1 0 0 0 1 0 0 0 0 0 0 0 1 1 0 0 0 0 0 2 0 0 0 0\n",
      " 0 1 1 0 0 1 1 0 1 0 0 0 0 0 0 1 0 0 0 0 1 0 1 0 0 2 0 1 1 0 0 0 0 0 0 0 0\n",
      " 0 0 0 0 0 0 1 0 1 0 1 1 0 0 0 0 0 0 0 0 1 1 0 0 0 1 0 0 1 1 0 0 0 0 1 1 0\n",
      " 0 1 0 0 1 1 0 0 1 0 0 1 0 0 0 1 1 1 1 0 0 0 0 0 0 1 0 0 0 0 1 1 2 0 0 0 0\n",
      " 0 1 2 0 0 0 1 0 1 1 0 0 1 0 0 0 0 0 0 0 1 0 0 0 1 0 0 1 2 0 0 0 0 0 1 1 2\n",
      " 2 0 1 0 0 1 0 0 0 1 0 0 0 1 0 0 0 0 0 1 2 0 0 1 0 1 0 0 0 1 0 1 1 1 0 0 1\n",
      " 0 1 0 0 2 2 0 0 0 1 1 0 0 0 0 1 1 2 0 0 1 0 1 0 1 1 0 0 0 1 0 0 1 2 0 2 1\n",
      " 1 0 0 1 0 1 1 0 0 0 0 2 1 1 1 1 1 1 0 0 1 1 1 0 1 0 0 1 2 1 1 0 0 1 1 0 1\n",
      " 1 0 1 1 0 0 0 0 1 1 2 0 0 0 1 0 0 0 0 0 0 1 0 1 0 0 1 0 0 0 0 0 1 0 1 0 0\n",
      " 0 1 1 0 0 1 0 1 0 1 0 0 1 0 1 2 0 1 1 0 0 0 1 0 0 0 0 0 0 0 1 0 0 0 0 1 0\n",
      " 1 0 0 0 0 0 0 1 1 1 0 1]\n"
     ]
    }
   ],
   "source": [
    "k = 3\n",
    "kmeans = KMeans(n_clusters=k)\n",
    "kmeans.fit(X)\n",
    "cluster_labels = kmeans.labels_\n",
    "print(cluster_labels)"
   ]
  },
  {
   "cell_type": "markdown",
   "id": "68edeb19-745a-48d7-9b49-baa1beecc125",
   "metadata": {},
   "source": [
    "### k = 5"
   ]
  },
  {
   "cell_type": "code",
   "execution_count": 13,
   "id": "8c4cac35-9f41-4384-8a20-7bbdd25dd8ac",
   "metadata": {},
   "outputs": [
    {
     "name": "stderr",
     "output_type": "stream",
     "text": [
      "C:\\Users\\Pranav\\AppData\\Local\\Programs\\Python\\Python311\\Lib\\site-packages\\sklearn\\cluster\\_kmeans.py:1412: FutureWarning: The default value of `n_init` will change from 10 to 'auto' in 1.4. Set the value of `n_init` explicitly to suppress the warning\n",
      "  super()._check_params_vs_input(X, default_n_init=10)\n"
     ]
    },
    {
     "name": "stdout",
     "output_type": "stream",
     "text": [
      "[4 2 1 3 3 4 3 1 3 2 3 1 0 2 4 1 2 1 3 3 0 4 3 2 3 3 0 4 1 2 1 2 3 2 0 4 4\n",
      " 1 4 4 3 4 4 2 1 4 3 0 4 4 2 4 2 4 1 1 0 4 1 3 1 1 4 4 1 2 1 1 1 4 1 2 0 1\n",
      " 4 1 2 3 2 1 3 2 3 4 4 1 2 2 3 3 1 1 1 0 2 4 3 2 3 3 4 1 4 3 1 2 3 2 2 1 2\n",
      " 4 4 1 1 4 3 2 1 3 2 1 4 1 3 1 4 4 1 4 4 0 3 2 1 1 1 4 4 3 2 2 4 2 2 4 1 4\n",
      " 0 1 2 0 1 3 3 0 2 4 2 4 4 4 2 2 0 1 2 4 3 1 4 3 2 1 0 1 2 3 2 3 2 1 3 4 4\n",
      " 1 4 1 4 2 1 3 1 3 3 1 3 4 2 3 1 0 2 1 3 1 4 4 3 3 2 4 3 1 3 4 1 4 1 4 3 2\n",
      " 3 1 3 3 4 2 0 2 3 2 1 3 4 4 4 1 0 4 2 4 0 2 1 4 4 2 3 3 2 1 4 2 3 4 3 2 1\n",
      " 1 4 4 1 4 3 2 2 3 2 3 1 4 4 3 2 3 4 1 3 3 0 3 3 1 4 1 3 4 2 3 3 1 4 2 3 4\n",
      " 4 1 1 2 3 4 4 0 3 3 1 4 1 2 4 4 1 0 2 1 4 0 4 3 1 4 3 1 3 1 3 4 2 2 2 1 3\n",
      " 2 2 0 1 3 3 2 1 4 1 1 4 3 1 4 2 4 1 0 4 1 4 1 2 0 0 2 4 2 2 0 1 4 2 3 4 3\n",
      " 4 3 3 1 0 3 2 2 1 1 2 1 2 3 1 2 2 1 4 3 1 1 4 3 4 1 2 2 0 0 3 4 3 2 1 4 1\n",
      " 2 4 1 3 4 3 4 1 1 3 2 2 4 2 0 1 4 2 1 3 4 4 4 4 4 2 4 1 4 3 4 2 1 4 3 1 1\n",
      " 2 4 1 3 2 2 2 4 3 1 3 3 2 4 3 3 3 4 4 4 4 2 2 4 3 2 4 1 2 4 0 1 1 4 4 1 3\n",
      " 4 1 4 3 0 4 4 1 2 1 3 0 1 2 4 4 0 3 1 3 1 1 2 0 4 1 4 2 4 2 3 1 1 1 4 4 1\n",
      " 2 1 0 1 3 4 3 1 1 2 3 1 4 1 4 4 2 1 3 4 2 2 2 4 2 1 1 2 2 2 3 2 0 4 4 2 4\n",
      " 4 1 1 2 3 1 1 3 1 4 3 2 4 4 3 1 3 2 4 4 1 4 1 2 4 0 3 1 3 3 3 4 3 2 4 4 2\n",
      " 3 2 3 2 4 4 1 4 1 2 1 1 4 4 2 2 4 2 4 4 1 1 3 2 3 1 3 2 1 1 4 4 2 4 1 1 2\n",
      " 3 1 3 2 1 1 4 2 3 4 2 1 2 3 4 1 1 1 1 2 4 4 4 3 2 1 3 4 4 2 1 1 0 2 4 4 3\n",
      " 4 1 0 4 4 3 1 4 1 1 3 3 1 3 2 4 3 2 4 4 1 4 2 3 1 2 3 4 0 4 4 4 3 4 1 1 0\n",
      " 0 3 1 2 4 1 3 4 4 1 4 2 4 1 2 3 4 2 2 1 0 3 4 4 4 1 2 3 3 1 4 1 1 1 4 2 1\n",
      " 2 1 3 3 0 0 2 3 4 3 1 2 3 4 2 1 1 0 3 4 1 4 1 4 1 1 4 2 4 1 4 2 1 0 3 0 1\n",
      " 1 2 3 1 2 1 1 3 4 4 4 0 1 1 1 1 1 1 2 3 2 1 1 4 1 3 4 1 0 1 1 2 3 1 1 2 1\n",
      " 3 3 1 4 2 2 2 3 1 1 0 2 2 3 1 4 4 3 3 2 2 1 4 1 2 4 1 3 2 4 3 2 1 4 1 2 3\n",
      " 3 1 4 2 2 1 3 1 4 1 2 2 1 3 1 0 4 1 1 2 4 4 1 4 3 2 4 4 2 3 1 3 3 2 2 3 4\n",
      " 1 3 2 2 3 3 4 1 3 1 2 1]\n"
     ]
    }
   ],
   "source": [
    "k = 5\n",
    "kmeans = KMeans(n_clusters=k)\n",
    "kmeans.fit(X)\n",
    "cluster_labels = kmeans.labels_\n",
    "print(cluster_labels)"
   ]
  },
  {
   "cell_type": "markdown",
   "id": "3bbc1561-ab94-4d04-ad50-5a05adf2c04e",
   "metadata": {},
   "source": [
    "## A2"
   ]
  },
  {
   "cell_type": "code",
   "execution_count": 14,
   "id": "f9330d22-187b-4fe1-97d6-524f8413c3c3",
   "metadata": {},
   "outputs": [
    {
     "name": "stderr",
     "output_type": "stream",
     "text": [
      "C:\\Users\\Pranav\\AppData\\Local\\Programs\\Python\\Python311\\Lib\\site-packages\\sklearn\\cluster\\_kmeans.py:1412: FutureWarning: The default value of `n_init` will change from 10 to 'auto' in 1.4. Set the value of `n_init` explicitly to suppress the warning\n",
      "  super()._check_params_vs_input(X, default_n_init=10)\n",
      "C:\\Users\\Pranav\\AppData\\Local\\Programs\\Python\\Python311\\Lib\\site-packages\\sklearn\\cluster\\_kmeans.py:1412: FutureWarning: The default value of `n_init` will change from 10 to 'auto' in 1.4. Set the value of `n_init` explicitly to suppress the warning\n",
      "  super()._check_params_vs_input(X, default_n_init=10)\n",
      "C:\\Users\\Pranav\\AppData\\Local\\Programs\\Python\\Python311\\Lib\\site-packages\\sklearn\\cluster\\_kmeans.py:1412: FutureWarning: The default value of `n_init` will change from 10 to 'auto' in 1.4. Set the value of `n_init` explicitly to suppress the warning\n",
      "  super()._check_params_vs_input(X, default_n_init=10)\n",
      "C:\\Users\\Pranav\\AppData\\Local\\Programs\\Python\\Python311\\Lib\\site-packages\\sklearn\\cluster\\_kmeans.py:1412: FutureWarning: The default value of `n_init` will change from 10 to 'auto' in 1.4. Set the value of `n_init` explicitly to suppress the warning\n",
      "  super()._check_params_vs_input(X, default_n_init=10)\n",
      "C:\\Users\\Pranav\\AppData\\Local\\Programs\\Python\\Python311\\Lib\\site-packages\\sklearn\\cluster\\_kmeans.py:1412: FutureWarning: The default value of `n_init` will change from 10 to 'auto' in 1.4. Set the value of `n_init` explicitly to suppress the warning\n",
      "  super()._check_params_vs_input(X, default_n_init=10)\n",
      "C:\\Users\\Pranav\\AppData\\Local\\Programs\\Python\\Python311\\Lib\\site-packages\\sklearn\\cluster\\_kmeans.py:1412: FutureWarning: The default value of `n_init` will change from 10 to 'auto' in 1.4. Set the value of `n_init` explicitly to suppress the warning\n",
      "  super()._check_params_vs_input(X, default_n_init=10)\n",
      "C:\\Users\\Pranav\\AppData\\Local\\Programs\\Python\\Python311\\Lib\\site-packages\\sklearn\\cluster\\_kmeans.py:1412: FutureWarning: The default value of `n_init` will change from 10 to 'auto' in 1.4. Set the value of `n_init` explicitly to suppress the warning\n",
      "  super()._check_params_vs_input(X, default_n_init=10)\n",
      "C:\\Users\\Pranav\\AppData\\Local\\Programs\\Python\\Python311\\Lib\\site-packages\\sklearn\\cluster\\_kmeans.py:1412: FutureWarning: The default value of `n_init` will change from 10 to 'auto' in 1.4. Set the value of `n_init` explicitly to suppress the warning\n",
      "  super()._check_params_vs_input(X, default_n_init=10)\n",
      "C:\\Users\\Pranav\\AppData\\Local\\Programs\\Python\\Python311\\Lib\\site-packages\\sklearn\\cluster\\_kmeans.py:1412: FutureWarning: The default value of `n_init` will change from 10 to 'auto' in 1.4. Set the value of `n_init` explicitly to suppress the warning\n",
      "  super()._check_params_vs_input(X, default_n_init=10)\n",
      "C:\\Users\\Pranav\\AppData\\Local\\Programs\\Python\\Python311\\Lib\\site-packages\\sklearn\\cluster\\_kmeans.py:1412: FutureWarning: The default value of `n_init` will change from 10 to 'auto' in 1.4. Set the value of `n_init` explicitly to suppress the warning\n",
      "  super()._check_params_vs_input(X, default_n_init=10)\n",
      "C:\\Users\\Pranav\\AppData\\Local\\Programs\\Python\\Python311\\Lib\\site-packages\\sklearn\\cluster\\_kmeans.py:1412: FutureWarning: The default value of `n_init` will change from 10 to 'auto' in 1.4. Set the value of `n_init` explicitly to suppress the warning\n",
      "  super()._check_params_vs_input(X, default_n_init=10)\n",
      "C:\\Users\\Pranav\\AppData\\Local\\Programs\\Python\\Python311\\Lib\\site-packages\\sklearn\\cluster\\_kmeans.py:1412: FutureWarning: The default value of `n_init` will change from 10 to 'auto' in 1.4. Set the value of `n_init` explicitly to suppress the warning\n",
      "  super()._check_params_vs_input(X, default_n_init=10)\n",
      "C:\\Users\\Pranav\\AppData\\Local\\Programs\\Python\\Python311\\Lib\\site-packages\\sklearn\\cluster\\_kmeans.py:1412: FutureWarning: The default value of `n_init` will change from 10 to 'auto' in 1.4. Set the value of `n_init` explicitly to suppress the warning\n",
      "  super()._check_params_vs_input(X, default_n_init=10)\n",
      "C:\\Users\\Pranav\\AppData\\Local\\Programs\\Python\\Python311\\Lib\\site-packages\\sklearn\\cluster\\_kmeans.py:1412: FutureWarning: The default value of `n_init` will change from 10 to 'auto' in 1.4. Set the value of `n_init` explicitly to suppress the warning\n",
      "  super()._check_params_vs_input(X, default_n_init=10)\n",
      "C:\\Users\\Pranav\\AppData\\Local\\Programs\\Python\\Python311\\Lib\\site-packages\\sklearn\\cluster\\_kmeans.py:1412: FutureWarning: The default value of `n_init` will change from 10 to 'auto' in 1.4. Set the value of `n_init` explicitly to suppress the warning\n",
      "  super()._check_params_vs_input(X, default_n_init=10)\n",
      "C:\\Users\\Pranav\\AppData\\Local\\Programs\\Python\\Python311\\Lib\\site-packages\\sklearn\\cluster\\_kmeans.py:1412: FutureWarning: The default value of `n_init` will change from 10 to 'auto' in 1.4. Set the value of `n_init` explicitly to suppress the warning\n",
      "  super()._check_params_vs_input(X, default_n_init=10)\n",
      "C:\\Users\\Pranav\\AppData\\Local\\Programs\\Python\\Python311\\Lib\\site-packages\\sklearn\\cluster\\_kmeans.py:1412: FutureWarning: The default value of `n_init` will change from 10 to 'auto' in 1.4. Set the value of `n_init` explicitly to suppress the warning\n",
      "  super()._check_params_vs_input(X, default_n_init=10)\n",
      "C:\\Users\\Pranav\\AppData\\Local\\Programs\\Python\\Python311\\Lib\\site-packages\\sklearn\\cluster\\_kmeans.py:1412: FutureWarning: The default value of `n_init` will change from 10 to 'auto' in 1.4. Set the value of `n_init` explicitly to suppress the warning\n",
      "  super()._check_params_vs_input(X, default_n_init=10)\n",
      "C:\\Users\\Pranav\\AppData\\Local\\Programs\\Python\\Python311\\Lib\\site-packages\\sklearn\\cluster\\_kmeans.py:1412: FutureWarning: The default value of `n_init` will change from 10 to 'auto' in 1.4. Set the value of `n_init` explicitly to suppress the warning\n",
      "  super()._check_params_vs_input(X, default_n_init=10)\n",
      "C:\\Users\\Pranav\\AppData\\Local\\Programs\\Python\\Python311\\Lib\\site-packages\\sklearn\\cluster\\_kmeans.py:1412: FutureWarning: The default value of `n_init` will change from 10 to 'auto' in 1.4. Set the value of `n_init` explicitly to suppress the warning\n",
      "  super()._check_params_vs_input(X, default_n_init=10)\n",
      "C:\\Users\\Pranav\\AppData\\Local\\Programs\\Python\\Python311\\Lib\\site-packages\\sklearn\\cluster\\_kmeans.py:1412: FutureWarning: The default value of `n_init` will change from 10 to 'auto' in 1.4. Set the value of `n_init` explicitly to suppress the warning\n",
      "  super()._check_params_vs_input(X, default_n_init=10)\n",
      "C:\\Users\\Pranav\\AppData\\Local\\Programs\\Python\\Python311\\Lib\\site-packages\\sklearn\\cluster\\_kmeans.py:1412: FutureWarning: The default value of `n_init` will change from 10 to 'auto' in 1.4. Set the value of `n_init` explicitly to suppress the warning\n",
      "  super()._check_params_vs_input(X, default_n_init=10)\n",
      "C:\\Users\\Pranav\\AppData\\Local\\Programs\\Python\\Python311\\Lib\\site-packages\\sklearn\\cluster\\_kmeans.py:1412: FutureWarning: The default value of `n_init` will change from 10 to 'auto' in 1.4. Set the value of `n_init` explicitly to suppress the warning\n",
      "  super()._check_params_vs_input(X, default_n_init=10)\n",
      "C:\\Users\\Pranav\\AppData\\Local\\Programs\\Python\\Python311\\Lib\\site-packages\\sklearn\\cluster\\_kmeans.py:1412: FutureWarning: The default value of `n_init` will change from 10 to 'auto' in 1.4. Set the value of `n_init` explicitly to suppress the warning\n",
      "  super()._check_params_vs_input(X, default_n_init=10)\n",
      "C:\\Users\\Pranav\\AppData\\Local\\Programs\\Python\\Python311\\Lib\\site-packages\\sklearn\\cluster\\_kmeans.py:1412: FutureWarning: The default value of `n_init` will change from 10 to 'auto' in 1.4. Set the value of `n_init` explicitly to suppress the warning\n",
      "  super()._check_params_vs_input(X, default_n_init=10)\n",
      "C:\\Users\\Pranav\\AppData\\Local\\Programs\\Python\\Python311\\Lib\\site-packages\\sklearn\\cluster\\_kmeans.py:1412: FutureWarning: The default value of `n_init` will change from 10 to 'auto' in 1.4. Set the value of `n_init` explicitly to suppress the warning\n",
      "  super()._check_params_vs_input(X, default_n_init=10)\n",
      "C:\\Users\\Pranav\\AppData\\Local\\Programs\\Python\\Python311\\Lib\\site-packages\\sklearn\\cluster\\_kmeans.py:1412: FutureWarning: The default value of `n_init` will change from 10 to 'auto' in 1.4. Set the value of `n_init` explicitly to suppress the warning\n",
      "  super()._check_params_vs_input(X, default_n_init=10)\n",
      "C:\\Users\\Pranav\\AppData\\Local\\Programs\\Python\\Python311\\Lib\\site-packages\\sklearn\\cluster\\_kmeans.py:1412: FutureWarning: The default value of `n_init` will change from 10 to 'auto' in 1.4. Set the value of `n_init` explicitly to suppress the warning\n",
      "  super()._check_params_vs_input(X, default_n_init=10)\n",
      "C:\\Users\\Pranav\\AppData\\Local\\Programs\\Python\\Python311\\Lib\\site-packages\\sklearn\\cluster\\_kmeans.py:1412: FutureWarning: The default value of `n_init` will change from 10 to 'auto' in 1.4. Set the value of `n_init` explicitly to suppress the warning\n",
      "  super()._check_params_vs_input(X, default_n_init=10)\n",
      "C:\\Users\\Pranav\\AppData\\Local\\Programs\\Python\\Python311\\Lib\\site-packages\\sklearn\\cluster\\_kmeans.py:1412: FutureWarning: The default value of `n_init` will change from 10 to 'auto' in 1.4. Set the value of `n_init` explicitly to suppress the warning\n",
      "  super()._check_params_vs_input(X, default_n_init=10)\n",
      "C:\\Users\\Pranav\\AppData\\Local\\Programs\\Python\\Python311\\Lib\\site-packages\\sklearn\\cluster\\_kmeans.py:1412: FutureWarning: The default value of `n_init` will change from 10 to 'auto' in 1.4. Set the value of `n_init` explicitly to suppress the warning\n",
      "  super()._check_params_vs_input(X, default_n_init=10)\n"
     ]
    },
    {
     "data": {
      "image/png": "[encoded data removed]",
      "text/plain": [
       "<Figure size 800x600 with 1 Axes>"
      ]
     },
     "metadata": {},
     "output_type": "display_data"
    }
   ],
   "source": [
    "k_values = range(1, 32)\n",
    "distortions = []\n",
    "\n",
    "for k in k_values:\n",
    "    kmeans = KMeans(n_clusters=k)\n",
    "    kmeans.fit(X)\n",
    "    distortions.append(kmeans.inertia_) \n",
    "\n",
    "plt.figure(figsize=(8, 6))\n",
    "plt.plot(k_values, distortions, marker='o')\n",
    "plt.title('Elbow Method for Optimal k')\n",
    "plt.xlabel('Number of Clusters (k)')\n",
    "plt.ylabel('Average Euclidean Distance from Centroid')\n",
    "plt.grid(True)\n",
    "plt.show()"
   ]
  },
  {
   "cell_type": "markdown",
   "id": "356f811e-6417-4057-873a-d88653a3df21",
   "metadata": {},
   "source": [
    "## A3"
   ]
  },
  {
   "cell_type": "markdown",
   "id": "6cf3e177-ed7d-427a-a40c-60293f4ac732",
   "metadata": {},
   "source": [
    "Use AgglomerativeClusteringfor hierarchical clustering of your data. Plot the dendrogram to visualize the clusters."
   ]
  },
  {
   "cell_type": "code",
   "execution_count": 15,
   "id": "6eeee669-1a88-49a6-99c0-8c9c0006e85c",
   "metadata": {},
   "outputs": [],
   "source": [
    "from sklearn.cluster import AgglomerativeClustering\n",
    "from scipy.cluster.hierarchy import dendrogram, linkage"
   ]
  },
  {
   "cell_type": "code",
   "execution_count": 16,
   "id": "0f848599-b078-4e6e-b5db-e1eff2feed3b",
   "metadata": {},
   "outputs": [
    {
     "data": {
      "image/png": "[encoded data removed]",
      "text/plain": [
       "<Figure size 1000x700 with 1 Axes>"
      ]
     },
     "metadata": {},
     "output_type": "display_data"
    }
   ],
   "source": [
    "model = AgglomerativeClustering(n_clusters=None, distance_threshold=0)\n",
    "model.fit(X)\n",
    "\n",
    "linked = linkage(X, method='ward')  \n",
    "plt.figure(figsize=(10, 7))\n",
    "dendrogram(linked, orientation='top', distance_sort='descending', truncate_mode='lastp', p=12)\n",
    "plt.title('Dendrogram for Hierarchical Clustering')\n",
    "plt.xlabel('Sample Index')\n",
    "plt.ylabel('Distance')\n",
    "plt.show()"
   ]
  },
  {
   "cell_type": "markdown",
   "id": "4e4cb1fa-d56f-49d8-84c0-64eab0629175",
   "metadata": {},
   "source": [
    "## A4"
   ]
  },
  {
   "cell_type": "code",
   "execution_count": 17,
   "id": "22d0bf38-b9b3-4376-8add-f2a061ad548e",
   "metadata": {},
   "outputs": [
    {
     "ename": "ModuleNotFoundError",
     "evalue": "No module named 'mlxtend'",
     "output_type": "error",
     "traceback": [
      "\u001b[1;31m---------------------------------------------------------------------------\u001b[0m",
      "\u001b[1;31mModuleNotFoundError\u001b[0m                       Traceback (most recent call last)",
      "Cell \u001b[1;32mIn[17], line 1\u001b[0m\n\u001b[1;32m----> 1\u001b[0m \u001b[38;5;28;01mfrom\u001b[39;00m \u001b[38;5;21;01mmlxtend\u001b[39;00m\u001b[38;5;21;01m.\u001b[39;00m\u001b[38;5;21;01mfeature_selection\u001b[39;00m \u001b[38;5;28;01mimport\u001b[39;00m SequentialFeatureSelector\n",
      "\u001b[1;31mModuleNotFoundError\u001b[0m: No module named 'mlxtend'"
     ]
    }
   ],
   "source": [
    "from mlxtend.feature_selection import SequentialFeatureSelector"
   ]
  },
  {
   "cell_type": "markdown",
   "id": "07a704ea-c42f-498b-8156-f5a795ddf533",
   "metadata": {},
   "source": [
    "## A5"
   ]
  },
  {
   "cell_type": "code",
   "execution_count": 18,
   "id": "92d91c8b-3041-4ff2-8273-8c50c88aeb2b",
   "metadata": {},
   "outputs": [],
   "source": [
    "from sklearn.decomposition import PCA"
   ]
  },
  {
   "cell_type": "code",
   "execution_count": 19,
   "id": "db9c9043-798e-47ce-83f9-b26fa63944d7",
   "metadata": {},
   "outputs": [
    {
     "data": {
      "text/html": [
       "<style>#sk-container-id-1 {color: black;}#sk-container-id-1 pre{padding: 0;}#sk-container-id-1 div.sk-toggleable {background-color: white;}#sk-container-id-1 label.sk-toggleable__label {cursor: pointer;display: block;width: 100%;margin-bottom: 0;padding: 0.3em;box-sizing: border-box;text-align: center;}#sk-container-id-1 label.sk-toggleable__label-arrow:before {content: \"▸\";float: left;margin-right: 0.25em;color: #696969;}#sk-container-id-1 label.sk-toggleable__label-arrow:hover:before {color: black;}#sk-container-id-1 div.sk-estimator:hover label.sk-toggleable__label-arrow:before {color: black;}#sk-container-id-1 div.sk-toggleable__content {max-height: 0;max-width: 0;overflow: hidden;text-align: left;background-color: #f0f8ff;}#sk-container-id-1 div.sk-toggleable__content pre {margin: 0.2em;color: black;border-radius: 0.25em;background-color: #f0f8ff;}#sk-container-id-1 input.sk-toggleable__control:checked~div.sk-toggleable__content {max-height: 200px;max-width: 100%;overflow: auto;}#sk-container-id-1 input.sk-toggleable__control:checked~label.sk-toggleable__label-arrow:before {content: \"▾\";}#sk-container-id-1 div.sk-estimator input.sk-toggleable__control:checked~label.sk-toggleable__label {background-color: #d4ebff;}#sk-container-id-1 div.sk-label input.sk-toggleable__control:checked~label.sk-toggleable__label {background-color: #d4ebff;}#sk-container-id-1 input.sk-hidden--visually {border: 0;clip: rect(1px 1px 1px 1px);clip: rect(1px, 1px, 1px, 1px);height: 1px;margin: -1px;overflow: hidden;padding: 0;position: absolute;width: 1px;}#sk-container-id-1 div.sk-estimator {font-family: monospace;background-color: #f0f8ff;border: 1px dotted black;border-radius: 0.25em;box-sizing: border-box;margin-bottom: 0.5em;}#sk-container-id-1 div.sk-estimator:hover {background-color: #d4ebff;}#sk-container-id-1 div.sk-parallel-item::after {content: \"\";width: 100%;border-bottom: 1px solid gray;flex-grow: 1;}#sk-container-id-1 div.sk-label:hover label.sk-toggleable__label {background-color: #d4ebff;}#sk-container-id-1 div.sk-serial::before {content: \"\";position: absolute;border-left: 1px solid gray;box-sizing: border-box;top: 0;bottom: 0;left: 50%;z-index: 0;}#sk-container-id-1 div.sk-serial {display: flex;flex-direction: column;align-items: center;background-color: white;padding-right: 0.2em;padding-left: 0.2em;position: relative;}#sk-container-id-1 div.sk-item {position: relative;z-index: 1;}#sk-container-id-1 div.sk-parallel {display: flex;align-items: stretch;justify-content: center;background-color: white;position: relative;}#sk-container-id-1 div.sk-item::before, #sk-container-id-1 div.sk-parallel-item::before {content: \"\";position: absolute;border-left: 1px solid gray;box-sizing: border-box;top: 0;bottom: 0;left: 50%;z-index: -1;}#sk-container-id-1 div.sk-parallel-item {display: flex;flex-direction: column;z-index: 1;position: relative;background-color: white;}#sk-container-id-1 div.sk-parallel-item:first-child::after {align-self: flex-end;width: 50%;}#sk-container-id-1 div.sk-parallel-item:last-child::after {align-self: flex-start;width: 50%;}#sk-container-id-1 div.sk-parallel-item:only-child::after {width: 0;}#sk-container-id-1 div.sk-dashed-wrapped {border: 1px dashed gray;margin: 0 0.4em 0.5em 0.4em;box-sizing: border-box;padding-bottom: 0.4em;background-color: white;}#sk-container-id-1 div.sk-label label {font-family: monospace;font-weight: bold;display: inline-block;line-height: 1.2em;}#sk-container-id-1 div.sk-label-container {text-align: center;}#sk-container-id-1 div.sk-container {/* jupyter's `normalize.less` sets `[hidden] { display: none; }` but bootstrap.min.css set `[hidden] { display: none !important; }` so we also need the `!important` here to be able to override the default hidden behavior on the sphinx rendered scikit-learn.org. See: https://github.com/scikit-learn/scikit-learn/issues/21755 */display: inline-block !important;position: relative;}#sk-container-id-1 div.sk-text-repr-fallback {display: none;}</style><div id=\"sk-container-id-1\" class=\"sk-top-container\"><div class=\"sk-text-repr-fallback\"><pre>PCA()</pre><b>In a Jupyter environment, please rerun this cell to show the HTML representation or trust the notebook. <br />On GitHub, the HTML representation is unable to render, please try loading this page with nbviewer.org.</b></div><div class=\"sk-container\" hidden><div class=\"sk-item\"><div class=\"sk-estimator sk-toggleable\"><input class=\"sk-toggleable__control sk-hidden--visually\" id=\"sk-estimator-id-1\" type=\"checkbox\" checked><label for=\"sk-estimator-id-1\" class=\"sk-toggleable__label sk-toggleable__label-arrow\">PCA</label><div class=\"sk-toggleable__content\"><pre>PCA()</pre></div></div></div></div></div>"
      ],
      "text/plain": [
       "PCA()"
      ]
     },
     "execution_count": 19,
     "metadata": {},
     "output_type": "execute_result"
    }
   ],
   "source": [
    "pca = PCA()\n",
    "pca.fit(X)"
   ]
  },
  {
   "cell_type": "code",
   "execution_count": 20,
   "id": "8fe713aa-c7e1-4a83-9988-6f5c1263c91c",
   "metadata": {},
   "outputs": [
    {
     "name": "stdout",
     "output_type": "stream",
     "text": [
      "Number of components needed to capture 95% variance: 189\n",
      "Variance captured by 189 components: 0.9503\n"
     ]
    }
   ],
   "source": [
    "cumulative_var_ratio = np.cumsum(pca.explained_variance_ratio_)\n",
    "\n",
    "n_components = np.argmax(cumulative_var_ratio >= 0.95) + 1\n",
    "variance_captured = cumulative_var_ratio[n_components - 1]\n",
    "\n",
    "print(f\"Number of components needed to capture 95% variance: {n_components}\")\n",
    "print(f\"Variance captured by {n_components} components: {variance_captured:.4f}\")\n",
    "\n",
    "pca = PCA(n_components=n_components)\n",
    "X_pca = pca.fit_transform(X)"
   ]
  },
  {
   "cell_type": "markdown",
   "id": "bd612e0c-6ea2-4f4c-a055-3b9dbb380a39",
   "metadata": {},
   "source": [
    "## A6"
   ]
  },
  {
   "cell_type": "code",
   "execution_count": 21,
   "id": "d92659e5-ce70-4e63-9354-badb74317c6a",
   "metadata": {},
   "outputs": [],
   "source": [
    "pca = PCA()\n",
    "pca.fit(X_train)\n",
    "\n",
    "cumulative_var_ratio = np.cumsum(pca.explained_variance_ratio_)\n",
    "n_components = np.argmax(cumulative_var_ratio >= 0.95) + 1\n",
    "\n",
    "pca = PCA(n_components=n_components)\n",
    "X_train_pca = pca.fit_transform(X_train)\n",
    "X_test_pca = pca.transform(X_test)"
   ]
  },
  {
   "cell_type": "code",
   "execution_count": 22,
   "id": "6a779c8b-4760-4bd2-aa0b-30f4097e7f69",
   "metadata": {},
   "outputs": [],
   "source": [
    "from sklearn.linear_model import LogisticRegression"
   ]
  },
  {
   "cell_type": "code",
   "execution_count": 24,
   "id": "02e078c4-2a7c-4799-b172-2e3101e94ea5",
   "metadata": {},
   "outputs": [
    {
     "data": {
      "text/html": [
       "<style>#sk-container-id-2 {color: black;}#sk-container-id-2 pre{padding: 0;}#sk-container-id-2 div.sk-toggleable {background-color: white;}#sk-container-id-2 label.sk-toggleable__label {cursor: pointer;display: block;width: 100%;margin-bottom: 0;padding: 0.3em;box-sizing: border-box;text-align: center;}#sk-container-id-2 label.sk-toggleable__label-arrow:before {content: \"▸\";float: left;margin-right: 0.25em;color: #696969;}#sk-container-id-2 label.sk-toggleable__label-arrow:hover:before {color: black;}#sk-container-id-2 div.sk-estimator:hover label.sk-toggleable__label-arrow:before {color: black;}#sk-container-id-2 div.sk-toggleable__content {max-height: 0;max-width: 0;overflow: hidden;text-align: left;background-color: #f0f8ff;}#sk-container-id-2 div.sk-toggleable__content pre {margin: 0.2em;color: black;border-radius: 0.25em;background-color: #f0f8ff;}#sk-container-id-2 input.sk-toggleable__control:checked~div.sk-toggleable__content {max-height: 200px;max-width: 100%;overflow: auto;}#sk-container-id-2 input.sk-toggleable__control:checked~label.sk-toggleable__label-arrow:before {content: \"▾\";}#sk-container-id-2 div.sk-estimator input.sk-toggleable__control:checked~label.sk-toggleable__label {background-color: #d4ebff;}#sk-container-id-2 div.sk-label input.sk-toggleable__control:checked~label.sk-toggleable__label {background-color: #d4ebff;}#sk-container-id-2 input.sk-hidden--visually {border: 0;clip: rect(1px 1px 1px 1px);clip: rect(1px, 1px, 1px, 1px);height: 1px;margin: -1px;overflow: hidden;padding: 0;position: absolute;width: 1px;}#sk-container-id-2 div.sk-estimator {font-family: monospace;background-color: #f0f8ff;border: 1px dotted black;border-radius: 0.25em;box-sizing: border-box;margin-bottom: 0.5em;}#sk-container-id-2 div.sk-estimator:hover {background-color: #d4ebff;}#sk-container-id-2 div.sk-parallel-item::after {content: \"\";width: 100%;border-bottom: 1px solid gray;flex-grow: 1;}#sk-container-id-2 div.sk-label:hover label.sk-toggleable__label {background-color: #d4ebff;}#sk-container-id-2 div.sk-serial::before {content: \"\";position: absolute;border-left: 1px solid gray;box-sizing: border-box;top: 0;bottom: 0;left: 50%;z-index: 0;}#sk-container-id-2 div.sk-serial {display: flex;flex-direction: column;align-items: center;background-color: white;padding-right: 0.2em;padding-left: 0.2em;position: relative;}#sk-container-id-2 div.sk-item {position: relative;z-index: 1;}#sk-container-id-2 div.sk-parallel {display: flex;align-items: stretch;justify-content: center;background-color: white;position: relative;}#sk-container-id-2 div.sk-item::before, #sk-container-id-2 div.sk-parallel-item::before {content: \"\";position: absolute;border-left: 1px solid gray;box-sizing: border-box;top: 0;bottom: 0;left: 50%;z-index: -1;}#sk-container-id-2 div.sk-parallel-item {display: flex;flex-direction: column;z-index: 1;position: relative;background-color: white;}#sk-container-id-2 div.sk-parallel-item:first-child::after {align-self: flex-end;width: 50%;}#sk-container-id-2 div.sk-parallel-item:last-child::after {align-self: flex-start;width: 50%;}#sk-container-id-2 div.sk-parallel-item:only-child::after {width: 0;}#sk-container-id-2 div.sk-dashed-wrapped {border: 1px dashed gray;margin: 0 0.4em 0.5em 0.4em;box-sizing: border-box;padding-bottom: 0.4em;background-color: white;}#sk-container-id-2 div.sk-label label {font-family: monospace;font-weight: bold;display: inline-block;line-height: 1.2em;}#sk-container-id-2 div.sk-label-container {text-align: center;}#sk-container-id-2 div.sk-container {/* jupyter's `normalize.less` sets `[hidden] { display: none; }` but bootstrap.min.css set `[hidden] { display: none !important; }` so we also need the `!important` here to be able to override the default hidden behavior on the sphinx rendered scikit-learn.org. See: https://github.com/scikit-learn/scikit-learn/issues/21755 */display: inline-block !important;position: relative;}#sk-container-id-2 div.sk-text-repr-fallback {display: none;}</style><div id=\"sk-container-id-2\" class=\"sk-top-container\"><div class=\"sk-text-repr-fallback\"><pre>LogisticRegression()</pre><b>In a Jupyter environment, please rerun this cell to show the HTML representation or trust the notebook. <br />On GitHub, the HTML representation is unable to render, please try loading this page with nbviewer.org.</b></div><div class=\"sk-container\" hidden><div class=\"sk-item\"><div class=\"sk-estimator sk-toggleable\"><input class=\"sk-toggleable__control sk-hidden--visually\" id=\"sk-estimator-id-2\" type=\"checkbox\" checked><label for=\"sk-estimator-id-2\" class=\"sk-toggleable__label sk-toggleable__label-arrow\">LogisticRegression</label><div class=\"sk-toggleable__content\"><pre>LogisticRegression()</pre></div></div></div></div></div>"
      ],
      "text/plain": [
       "LogisticRegression()"
      ]
     },
     "execution_count": 24,
     "metadata": {},
     "output_type": "execute_result"
    }
   ],
   "source": [
    "classifier = LogisticRegression()\n",
    "classifier.fit(X_train_pca, y_train)"
   ]
  },
  {
   "cell_type": "code",
   "execution_count": 25,
   "id": "92dea454-071b-48c5-8dd2-43b8a3040fc9",
   "metadata": {},
   "outputs": [
    {
     "name": "stdout",
     "output_type": "stream",
     "text": [
      "Accuracy using the transformed dataset: 0.6259\n"
     ]
    }
   ],
   "source": [
    "accuracy = classifier.score(X_test_pca, y_test)\n",
    "print(f\"Accuracy using the transformed dataset: {accuracy:.4f}\")"
   ]
  },
  {
   "cell_type": "markdown",
   "id": "d5b0889d-4d79-4e91-b0f7-fe170263397e",
   "metadata": {},
   "source": [
    "#### This code is written only by Prabhav Ravi Tammanashastri"
   ]
  }
 ],
 "metadata": {
  "kernelspec": {
   "display_name": "Python 3 (ipykernel)",
   "language": "python",
   "name": "python3"
  },
  "language_info": {
   "codemirror_mode": {
    "name": "ipython",
    "version": 3
   },
   "file_extension": ".py",
   "mimetype": "text/x-python",
   "name": "python",
   "nbconvert_exporter": "python",
   "pygments_lexer": "ipython3",
   "version": "3.11.1"
  }
 },
 "nbformat": 4,
 "nbformat_minor": 5
}
